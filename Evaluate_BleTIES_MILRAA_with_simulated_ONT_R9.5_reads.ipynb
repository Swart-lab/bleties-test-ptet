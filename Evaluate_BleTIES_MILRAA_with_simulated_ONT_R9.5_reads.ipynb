{
 "cells": [
  {
   "cell_type": "markdown",
   "metadata": {},
   "source": [
    "# Evaluate BleTIES MILRAA output with simulated ONT R9.5 reads"
   ]
  },
  {
   "cell_type": "code",
   "execution_count": 1,
   "metadata": {},
   "outputs": [],
   "source": [
    "import json\n",
    "import re\n",
    "import glob\n",
    "import datetime\n",
    "\n",
    "import pandas as pd\n",
    "import seaborn as sns\n",
    "import matplotlib.pyplot as plt\n",
    "\n",
    "from Bio import SeqIO\n",
    "from Bio import Seq\n",
    "from Bio import pairwise2\n",
    "\n",
    "from collections import defaultdict"
   ]
  },
  {
   "cell_type": "code",
   "execution_count": 2,
   "metadata": {},
   "outputs": [],
   "source": [
    "# Load previously annotated IES coordinates from published sequences\n",
    "with open(\"ref/ptetraurelia_mac_51.min100k_max100N.iescoords.json\", \"r\") as fh:\n",
    "    iescoords = json.load(fh)"
   ]
  },
  {
   "cell_type": "markdown",
   "metadata": {},
   "source": [
    "Evaluate the following:\n",
    "\n",
    " * Number of IESs recovered vs. MAC+IES average read coverage\n",
    "  * Thereof: Number with correct coordinate; TA junction; correct length\n",
    " * Number of mismatches between assembled IES sequence and vs. MAC+IES average read coverage"
   ]
  },
  {
   "cell_type": "code",
   "execution_count": 3,
   "metadata": {},
   "outputs": [],
   "source": [
    "# fields to report\n",
    "# iescov, ID, scaffold, coord, TA, length, score (coord, coord_TA, coord_TA_len)\n",
    "out = []\n",
    "for iescov in ['00','05','10','20','40']:\n",
    "    with open(f\"bleties_ont/ptet_sim_ontR95.mix{iescov}.milraa_subreads.milraa_ies.gff3\",\"r\") as fh:\n",
    "        for line in fh:\n",
    "            if not re.match(r\"#\", line):\n",
    "                spl=line.rstrip().split(\"\\t\")\n",
    "                scaff=spl[0]\n",
    "                coord=spl[3]\n",
    "                outcoord = coord\n",
    "                attr=spl[-1].rstrip(\";\").split(\";\")\n",
    "                attrdict={a.split(\"=\")[0]:a.split(\"=\")[1] for a in attr}\n",
    "                score = \"nomatch\"\n",
    "                if \"ta_pointer_start\" in attrdict and attrdict[\"ta_pointer_start\"] in iescoords[scaff]:\n",
    "                    outcoord = attrdict[\"ta_pointer_start\"]\n",
    "                    # Correct coordinate and TA pointer present\n",
    "                    if int(attrdict[\"IES_length\"]) == iescoords[scaff][attrdict[\"ta_pointer_start\"]]:\n",
    "                        # Correct coordinate and TA pointer and length\n",
    "                        score = \"coord_TA_len\"\n",
    "                    else:\n",
    "                        # Correct coordinate and TA pointer but wrong length\n",
    "                        score = \"coord_TA\"\n",
    "                else:\n",
    "                    if coord in iescoords[scaff]:\n",
    "                        # Correct coordinate but no TA pointer\n",
    "                        if int(attrdict[\"IES_length\"]) == iescoords[scaff][coord]:\n",
    "                            # Correct coordinate and length but no TA pointer\n",
    "                            score = \"coord_len\"\n",
    "                        else:\n",
    "                            score = \"coord\"\n",
    "                    else:\n",
    "                        for coord_i in range(int(coord)-10, int(coord)+10):\n",
    "                            if str(coord_i) in iescoords[scaff]:\n",
    "                                score = \"coord_10\"\n",
    "                        for coord_i in range(int(coord)-5, int(coord)+5):\n",
    "                            if str(coord_i) in iescoords[scaff]:\n",
    "                                score = \"coord_5\"\n",
    "                out.append([iescov, attrdict[\"ID\"], scaff, outcoord, attrdict[\"IES_length\"], score])\n",
    "out = pd.DataFrame(out, columns=[\"iescov\",\"ID\",\"scaffold\",\"pos\",\"len\",\"score\"])"
   ]
  },
  {
   "cell_type": "code",
   "execution_count": 4,
   "metadata": {},
   "outputs": [
    {
     "data": {
      "text/html": [
       "<div>\n",
       "<style scoped>\n",
       "    .dataframe tbody tr th:only-of-type {\n",
       "        vertical-align: middle;\n",
       "    }\n",
       "\n",
       "    .dataframe tbody tr th {\n",
       "        vertical-align: top;\n",
       "    }\n",
       "\n",
       "    .dataframe thead th {\n",
       "        text-align: right;\n",
       "    }\n",
       "</style>\n",
       "<table border=\"1\" class=\"dataframe\">\n",
       "  <thead>\n",
       "    <tr style=\"text-align: right;\">\n",
       "      <th></th>\n",
       "      <th>iescov</th>\n",
       "      <th>ID</th>\n",
       "      <th>scaffold</th>\n",
       "      <th>pos</th>\n",
       "      <th>len</th>\n",
       "      <th>score</th>\n",
       "    </tr>\n",
       "  </thead>\n",
       "  <tbody>\n",
       "    <tr>\n",
       "      <th>0</th>\n",
       "      <td>05</td>\n",
       "      <td>BREAK_POINTS_SUBREADS_scaffold51_100_256802_78</td>\n",
       "      <td>scaffold51_100</td>\n",
       "      <td>256803</td>\n",
       "      <td>78</td>\n",
       "      <td>coord_TA</td>\n",
       "    </tr>\n",
       "    <tr>\n",
       "      <th>1</th>\n",
       "      <td>05</td>\n",
       "      <td>BREAK_POINTS_SUBREADS_scaffold51_100_257911_45</td>\n",
       "      <td>scaffold51_100</td>\n",
       "      <td>257911</td>\n",
       "      <td>45</td>\n",
       "      <td>coord_TA_len</td>\n",
       "    </tr>\n",
       "    <tr>\n",
       "      <th>2</th>\n",
       "      <td>05</td>\n",
       "      <td>BREAK_POINTS_SUBREADS_scaffold51_100_258619_43</td>\n",
       "      <td>scaffold51_100</td>\n",
       "      <td>258620</td>\n",
       "      <td>43</td>\n",
       "      <td>coord_TA_len</td>\n",
       "    </tr>\n",
       "    <tr>\n",
       "      <th>3</th>\n",
       "      <td>05</td>\n",
       "      <td>BREAK_POINTS_SUBREADS_scaffold51_100_258810_74</td>\n",
       "      <td>scaffold51_100</td>\n",
       "      <td>258811</td>\n",
       "      <td>74</td>\n",
       "      <td>coord_TA</td>\n",
       "    </tr>\n",
       "    <tr>\n",
       "      <th>4</th>\n",
       "      <td>05</td>\n",
       "      <td>BREAK_POINTS_SUBREADS_scaffold51_100_259946_97</td>\n",
       "      <td>scaffold51_100</td>\n",
       "      <td>259946</td>\n",
       "      <td>97</td>\n",
       "      <td>coord_TA_len</td>\n",
       "    </tr>\n",
       "  </tbody>\n",
       "</table>\n",
       "</div>"
      ],
      "text/plain": [
       "  iescov                                              ID        scaffold  \\\n",
       "0     05  BREAK_POINTS_SUBREADS_scaffold51_100_256802_78  scaffold51_100   \n",
       "1     05  BREAK_POINTS_SUBREADS_scaffold51_100_257911_45  scaffold51_100   \n",
       "2     05  BREAK_POINTS_SUBREADS_scaffold51_100_258619_43  scaffold51_100   \n",
       "3     05  BREAK_POINTS_SUBREADS_scaffold51_100_258810_74  scaffold51_100   \n",
       "4     05  BREAK_POINTS_SUBREADS_scaffold51_100_259946_97  scaffold51_100   \n",
       "\n",
       "      pos len         score  \n",
       "0  256803  78      coord_TA  \n",
       "1  257911  45  coord_TA_len  \n",
       "2  258620  43  coord_TA_len  \n",
       "3  258811  74      coord_TA  \n",
       "4  259946  97  coord_TA_len  "
      ]
     },
     "execution_count": 4,
     "metadata": {},
     "output_type": "execute_result"
    }
   ],
   "source": [
    "# Preview table\n",
    "out.head()"
   ]
  },
  {
   "cell_type": "code",
   "execution_count": 5,
   "metadata": {},
   "outputs": [
    {
     "data": {
      "text/plain": [
       "Text(0.5, 1, 'BleTIES MILRAA on simulated Nanopore data')"
      ]
     },
     "execution_count": 5,
     "metadata": {},
     "output_type": "execute_result"
    },
    {
     "data": {
      "image/png": "[encoded data removed]",
      "text/plain": [
       "<Figure size 462.25x360 with 1 Axes>"
      ]
     },
     "metadata": {
      "needs_background": "light"
     },
     "output_type": "display_data"
    }
   ],
   "source": [
    "sns.catplot(hue='score',x='iescov',kind='count',data=out)\n",
    "plt.xlabel(\"MAC+IES coverage\")\n",
    "plt.ylabel(\"Number of IESs predicted\")\n",
    "plt.title(\"BleTIES MILRAA on simulated Nanopore data\")"
   ]
  },
  {
   "cell_type": "code",
   "execution_count": 6,
   "metadata": {},
   "outputs": [],
   "source": [
    "# tabulate by score type and reformat table for barplot\n",
    "cts = out[['iescov','score']].groupby(['iescov','score']).size().reset_index()\n",
    "ctsspread = cts.pivot(index='iescov',columns='score',values=0).reset_index().fillna(0)"
   ]
  },
  {
   "cell_type": "code",
   "execution_count": 7,
   "metadata": {},
   "outputs": [
    {
     "data": {
      "text/plain": [
       "iescov\n",
       "05      308.0\n",
       "10     5515.0\n",
       "20    11276.0\n",
       "40    11609.0\n",
       "dtype: float64"
      ]
     },
     "execution_count": 7,
     "metadata": {},
     "output_type": "execute_result"
    }
   ],
   "source": [
    "# Total IESs predicted per mixture ratio\n",
    "cts.pivot(index='iescov',columns='score',values=0).fillna(0).transpose().sum()"
   ]
  },
  {
   "cell_type": "code",
   "execution_count": 8,
   "metadata": {},
   "outputs": [
    {
     "data": {
      "text/html": [
       "<div>\n",
       "<style scoped>\n",
       "    .dataframe tbody tr th:only-of-type {\n",
       "        vertical-align: middle;\n",
       "    }\n",
       "\n",
       "    .dataframe tbody tr th {\n",
       "        vertical-align: top;\n",
       "    }\n",
       "\n",
       "    .dataframe thead th {\n",
       "        text-align: right;\n",
       "    }\n",
       "</style>\n",
       "<table border=\"1\" class=\"dataframe\">\n",
       "  <thead>\n",
       "    <tr style=\"text-align: right;\">\n",
       "      <th>iescov</th>\n",
       "      <th>05</th>\n",
       "      <th>10</th>\n",
       "      <th>20</th>\n",
       "      <th>40</th>\n",
       "    </tr>\n",
       "    <tr>\n",
       "      <th>score</th>\n",
       "      <th></th>\n",
       "      <th></th>\n",
       "      <th></th>\n",
       "      <th></th>\n",
       "    </tr>\n",
       "  </thead>\n",
       "  <tbody>\n",
       "    <tr>\n",
       "      <th>coord</th>\n",
       "      <td>1.0</td>\n",
       "      <td>41.0</td>\n",
       "      <td>53.0</td>\n",
       "      <td>42.0</td>\n",
       "    </tr>\n",
       "    <tr>\n",
       "      <th>coord_10</th>\n",
       "      <td>2.0</td>\n",
       "      <td>43.0</td>\n",
       "      <td>66.0</td>\n",
       "      <td>67.0</td>\n",
       "    </tr>\n",
       "    <tr>\n",
       "      <th>coord_5</th>\n",
       "      <td>29.0</td>\n",
       "      <td>439.0</td>\n",
       "      <td>805.0</td>\n",
       "      <td>735.0</td>\n",
       "    </tr>\n",
       "    <tr>\n",
       "      <th>coord_TA</th>\n",
       "      <td>69.0</td>\n",
       "      <td>1245.0</td>\n",
       "      <td>1679.0</td>\n",
       "      <td>1545.0</td>\n",
       "    </tr>\n",
       "    <tr>\n",
       "      <th>coord_TA_len</th>\n",
       "      <td>207.0</td>\n",
       "      <td>3726.0</td>\n",
       "      <td>8645.0</td>\n",
       "      <td>9188.0</td>\n",
       "    </tr>\n",
       "    <tr>\n",
       "      <th>coord_len</th>\n",
       "      <td>0.0</td>\n",
       "      <td>8.0</td>\n",
       "      <td>6.0</td>\n",
       "      <td>1.0</td>\n",
       "    </tr>\n",
       "    <tr>\n",
       "      <th>nomatch</th>\n",
       "      <td>0.0</td>\n",
       "      <td>13.0</td>\n",
       "      <td>22.0</td>\n",
       "      <td>31.0</td>\n",
       "    </tr>\n",
       "  </tbody>\n",
       "</table>\n",
       "</div>"
      ],
      "text/plain": [
       "iescov           05      10      20      40\n",
       "score                                      \n",
       "coord           1.0    41.0    53.0    42.0\n",
       "coord_10        2.0    43.0    66.0    67.0\n",
       "coord_5        29.0   439.0   805.0   735.0\n",
       "coord_TA       69.0  1245.0  1679.0  1545.0\n",
       "coord_TA_len  207.0  3726.0  8645.0  9188.0\n",
       "coord_len       0.0     8.0     6.0     1.0\n",
       "nomatch         0.0    13.0    22.0    31.0"
      ]
     },
     "execution_count": 8,
     "metadata": {},
     "output_type": "execute_result"
    }
   ],
   "source": [
    "# Total IESs predicted per mixture ratio\n",
    "cts.pivot(index='iescov',columns='score',values=0).fillna(0).transpose()"
   ]
  },
  {
   "cell_type": "code",
   "execution_count": 9,
   "metadata": {},
   "outputs": [
    {
     "data": {
      "text/html": [
       "<div>\n",
       "<style scoped>\n",
       "    .dataframe tbody tr th:only-of-type {\n",
       "        vertical-align: middle;\n",
       "    }\n",
       "\n",
       "    .dataframe tbody tr th {\n",
       "        vertical-align: top;\n",
       "    }\n",
       "\n",
       "    .dataframe thead th {\n",
       "        text-align: right;\n",
       "    }\n",
       "</style>\n",
       "<table border=\"1\" class=\"dataframe\">\n",
       "  <thead>\n",
       "    <tr style=\"text-align: right;\">\n",
       "      <th>score</th>\n",
       "      <th>iescov</th>\n",
       "      <th>coord</th>\n",
       "      <th>coord_10</th>\n",
       "      <th>coord_5</th>\n",
       "      <th>coord_TA</th>\n",
       "      <th>coord_TA_len</th>\n",
       "      <th>coord_len</th>\n",
       "      <th>nomatch</th>\n",
       "    </tr>\n",
       "  </thead>\n",
       "  <tbody>\n",
       "    <tr>\n",
       "      <th>0</th>\n",
       "      <td>05</td>\n",
       "      <td>1.0</td>\n",
       "      <td>2.0</td>\n",
       "      <td>29.0</td>\n",
       "      <td>69.0</td>\n",
       "      <td>207.0</td>\n",
       "      <td>0.0</td>\n",
       "      <td>0.0</td>\n",
       "    </tr>\n",
       "    <tr>\n",
       "      <th>1</th>\n",
       "      <td>10</td>\n",
       "      <td>41.0</td>\n",
       "      <td>43.0</td>\n",
       "      <td>439.0</td>\n",
       "      <td>1245.0</td>\n",
       "      <td>3726.0</td>\n",
       "      <td>8.0</td>\n",
       "      <td>13.0</td>\n",
       "    </tr>\n",
       "    <tr>\n",
       "      <th>2</th>\n",
       "      <td>20</td>\n",
       "      <td>53.0</td>\n",
       "      <td>66.0</td>\n",
       "      <td>805.0</td>\n",
       "      <td>1679.0</td>\n",
       "      <td>8645.0</td>\n",
       "      <td>6.0</td>\n",
       "      <td>22.0</td>\n",
       "    </tr>\n",
       "    <tr>\n",
       "      <th>3</th>\n",
       "      <td>40</td>\n",
       "      <td>42.0</td>\n",
       "      <td>67.0</td>\n",
       "      <td>735.0</td>\n",
       "      <td>1545.0</td>\n",
       "      <td>9188.0</td>\n",
       "      <td>1.0</td>\n",
       "      <td>31.0</td>\n",
       "    </tr>\n",
       "  </tbody>\n",
       "</table>\n",
       "</div>"
      ],
      "text/plain": [
       "score iescov  coord  coord_10  coord_5  coord_TA  coord_TA_len  coord_len  \\\n",
       "0         05    1.0       2.0     29.0      69.0         207.0        0.0   \n",
       "1         10   41.0      43.0    439.0    1245.0        3726.0        8.0   \n",
       "2         20   53.0      66.0    805.0    1679.0        8645.0        6.0   \n",
       "3         40   42.0      67.0    735.0    1545.0        9188.0        1.0   \n",
       "\n",
       "score  nomatch  \n",
       "0          0.0  \n",
       "1         13.0  \n",
       "2         22.0  \n",
       "3         31.0  "
      ]
     },
     "execution_count": 9,
     "metadata": {},
     "output_type": "execute_result"
    }
   ],
   "source": [
    "ctsspread"
   ]
  },
  {
   "cell_type": "code",
   "execution_count": 10,
   "metadata": {},
   "outputs": [],
   "source": [
    "# Save to file\n",
    "ctsspread.to_csv(\"plots/ptet_sim_ontR95.mix.ies_results.tsv\", sep=\"\\t\", index=False)"
   ]
  },
  {
   "cell_type": "code",
   "execution_count": 11,
   "metadata": {},
   "outputs": [
    {
     "data": {
      "text/plain": [
       "12199"
      ]
     },
     "execution_count": 11,
     "metadata": {},
     "output_type": "execute_result"
    }
   ],
   "source": [
    "# Total number of IESs in the input\n",
    "sum([len(iescoords[scaff]) for scaff in iescoords])"
   ]
  },
  {
   "cell_type": "code",
   "execution_count": 12,
   "metadata": {},
   "outputs": [
    {
     "data": {
      "image/png": "[encoded data removed]",
      "text/plain": [
       "<Figure size 576x432 with 1 Axes>"
      ]
     },
     "metadata": {
      "needs_background": "light"
     },
     "output_type": "display_data"
    }
   ],
   "source": [
    "plt.figure(figsize=(8,6))\n",
    "plt.bar(ctsspread['iescov'], ctsspread['nomatch'], label='no match', color='pink')\n",
    "plt.bar(ctsspread['iescov'], ctsspread['coord_10'], label='within 10 bp', color='#9a0000',\n",
    "        bottom = ctsspread['nomatch'])\n",
    "plt.bar(ctsspread['iescov'], ctsspread['coord_5'], label='within 5 bp', color='#e10000',\n",
    "        bottom = ctsspread['nomatch'] + ctsspread['coord_10'])\n",
    "plt.bar(ctsspread['iescov'],ctsspread['coord'], label='coord', color='#000a9a',\n",
    "        bottom = ctsspread['nomatch'] + ctsspread['coord_10'] + ctsspread['coord_5'])\n",
    "plt.bar(ctsspread['iescov'],ctsspread['coord_len'], label='coord, length', color='#00969a',\n",
    "        bottom = ctsspread['nomatch'] + ctsspread['coord_10'] + ctsspread['coord_5'] + ctsspread['coord'])\n",
    "plt.bar(ctsspread['iescov'],ctsspread['coord_TA'], label='coord, TAs', color='#009a1a',\n",
    "        bottom = ctsspread['nomatch'] + ctsspread['coord_10'] + ctsspread['coord_5'] + ctsspread['coord'] + ctsspread['coord_len'])\n",
    "plt.bar(ctsspread['iescov'],ctsspread['coord_TA_len'], label='coord, length, TAs', color='#59e700',\n",
    "        bottom = ctsspread['nomatch'] + ctsspread['coord_10'] + ctsspread['coord_5'] + ctsspread['coord'] + ctsspread['coord_len'] + ctsspread['coord_TA'])\n",
    "plt.legend()\n",
    "plt.xlabel(\"MAC+IES coverage\")\n",
    "plt.ylabel(\"Number of IESs predicted\")\n",
    "plt.title(\"BleTIES MILRAA on simulated Nanopore R9.5 data\")\n",
    "plt.savefig(\"plots/ptet_sim_ontR95.mix.ies_results.png\")\n",
    "plt.savefig(\"plots/ptet_sim_ontR95.mix.ies_results.pdf\")"
   ]
  },
  {
   "cell_type": "code",
   "execution_count": 13,
   "metadata": {},
   "outputs": [],
   "source": [
    "# Lenths for original IES annotations\n",
    "ieslens = []\n",
    "for scaff in iescoords:\n",
    "    ieslens.extend(iescoords[scaff].values())"
   ]
  },
  {
   "cell_type": "code",
   "execution_count": 14,
   "metadata": {},
   "outputs": [],
   "source": [
    "out['len'] = pd.to_numeric(out['len'])"
   ]
  },
  {
   "cell_type": "code",
   "execution_count": 15,
   "metadata": {},
   "outputs": [
    {
     "data": {
      "image/png": "[encoded data removed]",
      "text/plain": [
       "<Figure size 504x864 with 4 Axes>"
      ]
     },
     "metadata": {
      "needs_background": "light"
     },
     "output_type": "display_data"
    }
   ],
   "source": [
    "grid = sns.FacetGrid(out.query('len<300'), row='iescov', height=3, aspect=7/3)\n",
    "grid.map(sns.histplot, 'len', binwidth=1, linewidth=0)\n",
    "grid.set_titles(row_template=\"MAC+IES average coverage {row_name}x\")\n",
    "grid.set_xlabels(\"IES length (bp)\")\n",
    "grid.set_ylabels(\"No. MILRAA IESs\")\n",
    "grid.savefig(\"plots/ptet_sim_ontR95.mix.ieslengths.png\")\n",
    "grid.savefig(\"plots/ptet_sim_ontR95.mix.ieslengths.pdf\")"
   ]
  },
  {
   "cell_type": "markdown",
   "metadata": {},
   "source": [
    "# Compare reconstructed IES seqs with original\n",
    "\n",
    "Extract IES sequences from MAC+IES assembly"
   ]
  },
  {
   "cell_type": "code",
   "execution_count": 16,
   "metadata": {},
   "outputs": [],
   "source": [
    "macies = SeqIO.to_dict(SeqIO.parse(\"ref/ptetraurelia_mac_51_with_ies.min100k_max100N.fa\",\"fasta\"))"
   ]
  },
  {
   "cell_type": "code",
   "execution_count": 18,
   "metadata": {},
   "outputs": [],
   "source": [
    "iesrecon = {}\n",
    "for cov in ['05','10','20','40']:\n",
    "    iesrecon[cov] = SeqIO.to_dict(\n",
    "        SeqIO.parse(\n",
    "            f\"bleties_ont/ptet_sim_ontR95.mix{cov}.milraa_subreads.milraa_ies.fasta\",\"fasta\"))\n",
    "    # Adjust IES sequences to be TA bound, instead of left-most coordinate\n",
    "    with open(f\"bleties_ont/ptet_sim_ontR95.mix{cov}.milraa_subreads.milraa_ies.gff3\",\"r\") as fh:\n",
    "        for line in fh:\n",
    "            if not re.match(r\"#\", line):\n",
    "                spl=line.rstrip().split(\"\\t\")\n",
    "                scaff=spl[0]\n",
    "                coord=spl[3]\n",
    "                attr=spl[-1].rstrip(\";\").split(\";\")\n",
    "                attrdict={a.split(\"=\")[0]:a.split(\"=\")[1] for a in attr}\n",
    "                if 'ta_pointer_start' in attrdict and attrdict['ta_pointer_start'] != coord:\n",
    "                    offset = int(attrdict['ta_pointer_start']) - int(coord)\n",
    "                    # Adjust sequence relative to TA pointer\n",
    "                    iesrecon[cov][attrdict['ID']].seq = iesrecon[cov][attrdict['ID']].seq[offset:] \\\n",
    "                        + iesrecon[cov][attrdict['ID']].seq[0:offset]"
   ]
  },
  {
   "cell_type": "code",
   "execution_count": 19,
   "metadata": {},
   "outputs": [],
   "source": [
    "# IES annotations in published MAC+IES assembly\n",
    "with open(\"ref/ptetraurelia_mac_51_with_ies.min100k_max100N.iescoords.json\", \"r\") as fh:\n",
    "    iescoords_orig = json.load(fh)"
   ]
  },
  {
   "cell_type": "code",
   "execution_count": 20,
   "metadata": {},
   "outputs": [],
   "source": [
    "# Extract original IESs from the MAC+IES assembly\n",
    "orig_ies_seqs = defaultdict(dict)\n",
    "for scaff in iescoords_orig:\n",
    "    scaff_mac = scaff[:-9]\n",
    "    # dict of new coordinate vs. original coordinates\n",
    "    new_old = dict(zip(iescoords[scaff_mac],iescoords_orig[scaff]))\n",
    "    for pos in new_old:\n",
    "        name = 'ies_' + scaff_mac + \"_\" + str(pos)\n",
    "        orig_ies_seqs[scaff_mac][pos] = macies[scaff][new_old[pos][0]:new_old[pos][1]]"
   ]
  },
  {
   "cell_type": "code",
   "execution_count": 21,
   "metadata": {},
   "outputs": [],
   "source": [
    "# Compare original and reconstructed IES sequences\n",
    "iescomp = []\n",
    "for cov in iesrecon:\n",
    "    # Subset of IESs which have previously been found to have exactly matching coordinate\n",
    "    # (coordinates reported differently in annotation, so were adjusted above for TA repeats)\n",
    "    subset_coord_match = out.query(f\"iescov=='{cov}' & score in ['coord_TA_len', 'coord_TA', 'coord', 'coord_len']\")\n",
    "    counter = 0\n",
    "    for i, rec in subset_coord_match.iterrows():\n",
    "        scaff = rec['scaffold']\n",
    "        pos = rec['pos']\n",
    "        seqid = rec['ID']\n",
    "        if pos in orig_ies_seqs[scaff]:\n",
    "            origseq = orig_ies_seqs[scaff][pos].seq[:-2]\n",
    "            # Strip last two bases because in ParameciumDB both TA repeats are softmasked\n",
    "            origlen = len(origseq)\n",
    "            assemlen = len(iesrecon[cov][seqid].seq)\n",
    "            # define percent identity as number of matching bases \n",
    "            # in whichever is longer: original seq or consensus\n",
    "            alnscore = (pairwise2.align.globalxx(\n",
    "                str(origseq).upper(),\n",
    "                iesrecon[cov][seqid].seq,\n",
    "                score_only=True))\n",
    "            pid = alnscore / max([origlen, assemlen])\n",
    "            mismatch = int(origlen - alnscore)\n",
    "            indel = int(assemlen - origlen)\n",
    "            iescomp.append([cov, seqid, pid, mismatch, indel])\n",
    "iescomp_tbl = pd.DataFrame(iescomp, columns=['cov','seqid','pid','mm','indel'])"
   ]
  },
  {
   "cell_type": "code",
   "execution_count": 23,
   "metadata": {},
   "outputs": [
    {
     "data": {
      "image/png": "[encoded data removed]",
      "text/plain": [
       "<Figure size 504x864 with 4 Axes>"
      ]
     },
     "metadata": {
      "needs_background": "light"
     },
     "output_type": "display_data"
    }
   ],
   "source": [
    "grid = sns.FacetGrid(iescomp_tbl, row='cov', height=3, aspect=7/3)\n",
    "grid.map(sns.histplot, 'pid', binwidth=0.01, linewidth=0)\n",
    "plt.savefig(\"plots/ptet_sim_ontR95.mix.ies_vs_orig_seqid.png\")\n",
    "plt.savefig(\"plots/ptet_sim_ontR95.mix.ies_vs_orig_seqid.pdf\")"
   ]
  },
  {
   "cell_type": "code",
   "execution_count": 24,
   "metadata": {},
   "outputs": [
    {
     "data": {
      "image/png": "[encoded data removed]",
      "text/plain": [
       "<Figure size 504x864 with 4 Axes>"
      ]
     },
     "metadata": {
      "needs_background": "light"
     },
     "output_type": "display_data"
    }
   ],
   "source": [
    "grid = sns.FacetGrid(iescomp_tbl.query('mm < 25'), row='cov', height=3, aspect=7/3)\n",
    "grid.map(sns.histplot, 'mm', binwidth=1, linewidth=0)\n",
    "plt.savefig(\"plots/ptet_sim_ontR95.mix.ies_vs_orig_mm.png\")\n",
    "plt.savefig(\"plots/ptet_sim_ontR95.mix.ies_vs_orig_mm.pdf\")"
   ]
  },
  {
   "cell_type": "code",
   "execution_count": 25,
   "metadata": {},
   "outputs": [
    {
     "data": {
      "image/png": "[encoded data removed]",
      "text/plain": [
       "<Figure size 504x864 with 4 Axes>"
      ]
     },
     "metadata": {
      "needs_background": "light"
     },
     "output_type": "display_data"
    }
   ],
   "source": [
    "grid = sns.FacetGrid(iescomp_tbl.query('indel > -25 & indel < 25'), row='cov', height=3, aspect=7/3)\n",
    "grid.map(sns.histplot, 'indel', binwidth=1, linewidth=0)\n",
    "plt.savefig(\"plots/ptet_sim_ontR95.mix.ies_vs_orig_indel.png\")\n",
    "plt.savefig(\"plots/ptet_sim_ontR95.mix.ies_vs_orig_indel.pdf\")"
   ]
  },
  {
   "cell_type": "code",
   "execution_count": 26,
   "metadata": {},
   "outputs": [
    {
     "name": "stdout",
     "output_type": "stream",
     "text": [
      "05\n",
      "      pid    mm  indel\n",
      "1.00  1.0  51.0    2.0\n",
      "0.99  1.0   2.0    2.0\n",
      "0.98  1.0   2.0    2.0\n",
      "0.97  1.0   2.0    1.0\n",
      "0.96  1.0   1.0    1.0\n",
      "0.95  1.0   1.0    1.0\n",
      "\n",
      "10\n",
      "      pid    mm  indel\n",
      "1.00  1.0  77.0   59.0\n",
      "0.99  1.0   3.0    2.0\n",
      "0.98  1.0   2.0    2.0\n",
      "0.97  1.0   2.0    2.0\n",
      "0.96  1.0   1.0    1.0\n",
      "0.95  1.0   1.0    1.0\n",
      "\n",
      "20\n",
      "      pid     mm  indel\n",
      "1.00  1.0  153.0   81.0\n",
      "0.99  1.0    2.0    2.0\n",
      "0.98  1.0    2.0    1.0\n",
      "0.97  1.0    1.0    1.0\n",
      "0.96  1.0    1.0    1.0\n",
      "0.95  1.0    1.0    1.0\n",
      "\n",
      "40\n",
      "      pid    mm  indel\n",
      "1.00  1.0  45.0   80.0\n",
      "0.99  1.0   2.0    2.0\n",
      "0.98  1.0   1.0    1.0\n",
      "0.97  1.0   1.0    1.0\n",
      "0.96  1.0   1.0    1.0\n",
      "0.95  1.0   1.0    1.0\n",
      "\n"
     ]
    }
   ],
   "source": [
    "# Report upper percentile stats for each metric\n",
    "for cov in ['05','10','20','40']:\n",
    "    print(cov)\n",
    "    print(iescomp_tbl.query(f\"cov == '{cov}'\").quantile([1, 0.99, 0.98, 0.97, 0.96, 0.95], axis=0))\n",
    "    print(\"\")"
   ]
  },
  {
   "cell_type": "code",
   "execution_count": 27,
   "metadata": {},
   "outputs": [],
   "source": [
    "# Report summary statistics on sequence identity\n",
    "with open(\"plots/ptet_sim_ontR95.mix.seqid_summary.tsv\", \"w\") as fh:\n",
    "    # Print header\n",
    "    fh.write(\"\\t\".join(['cov','total','id 100','id 97','mm 0','mm 1','indel 0','indel 1', 'mm indel 1']))\n",
    "    fh.write(\"\\n\")\n",
    "    for cov in ['05','10','20','40']:\n",
    "        fh.write(\"\\t\".join([\n",
    "            cov,\n",
    "            str(iescomp_tbl.query(f\"cov == '{cov}'\").shape[0]),\n",
    "            str(iescomp_tbl.query(f\"cov == '{cov}' & pid == 1.0\").shape[0]),\n",
    "            str(iescomp_tbl.query(f\"cov == '{cov}' & pid > 0.97\").shape[0]),\n",
    "            str(iescomp_tbl.query(f\"cov == '{cov}' & mm == 0\").shape[0]),\n",
    "            str(iescomp_tbl.query(f\"cov == '{cov}' & mm <= 1\").shape[0]),\n",
    "            str(iescomp_tbl.query(f\"cov == '{cov}' & indel == 0\").shape[0]),\n",
    "            str(iescomp_tbl.query(f\"cov == '{cov}' & indel >= -1 & indel <= 1\").shape[0]),\n",
    "            str(iescomp_tbl.query(f\"cov == '{cov}' & indel >= -1 & indel <= 1 & mm <= 1\").shape[0])\n",
    "        ]))\n",
    "        fh.write(\"\\n\")"
   ]
  },
  {
   "cell_type": "code",
   "execution_count": 28,
   "metadata": {},
   "outputs": [
    {
     "data": {
      "text/html": [
       "<div>\n",
       "<style scoped>\n",
       "    .dataframe tbody tr th:only-of-type {\n",
       "        vertical-align: middle;\n",
       "    }\n",
       "\n",
       "    .dataframe tbody tr th {\n",
       "        vertical-align: top;\n",
       "    }\n",
       "\n",
       "    .dataframe thead th {\n",
       "        text-align: right;\n",
       "    }\n",
       "</style>\n",
       "<table border=\"1\" class=\"dataframe\">\n",
       "  <thead>\n",
       "    <tr style=\"text-align: right;\">\n",
       "      <th></th>\n",
       "      <th>0</th>\n",
       "      <th>1</th>\n",
       "      <th>2</th>\n",
       "      <th>3</th>\n",
       "    </tr>\n",
       "  </thead>\n",
       "  <tbody>\n",
       "    <tr>\n",
       "      <th>cov</th>\n",
       "      <td>5</td>\n",
       "      <td>10</td>\n",
       "      <td>20</td>\n",
       "      <td>40</td>\n",
       "    </tr>\n",
       "    <tr>\n",
       "      <th>total</th>\n",
       "      <td>277</td>\n",
       "      <td>5020</td>\n",
       "      <td>10383</td>\n",
       "      <td>10776</td>\n",
       "    </tr>\n",
       "    <tr>\n",
       "      <th>id 100</th>\n",
       "      <td>193</td>\n",
       "      <td>3535</td>\n",
       "      <td>8425</td>\n",
       "      <td>8975</td>\n",
       "    </tr>\n",
       "    <tr>\n",
       "      <th>id 97</th>\n",
       "      <td>264</td>\n",
       "      <td>4730</td>\n",
       "      <td>10058</td>\n",
       "      <td>10503</td>\n",
       "    </tr>\n",
       "    <tr>\n",
       "      <th>mm 0</th>\n",
       "      <td>225</td>\n",
       "      <td>4192</td>\n",
       "      <td>9323</td>\n",
       "      <td>9781</td>\n",
       "    </tr>\n",
       "    <tr>\n",
       "      <th>mm 1</th>\n",
       "      <td>267</td>\n",
       "      <td>4835</td>\n",
       "      <td>10159</td>\n",
       "      <td>10601</td>\n",
       "    </tr>\n",
       "    <tr>\n",
       "      <th>indel 0</th>\n",
       "      <td>207</td>\n",
       "      <td>3734</td>\n",
       "      <td>8651</td>\n",
       "      <td>9189</td>\n",
       "    </tr>\n",
       "    <tr>\n",
       "      <th>indel 1</th>\n",
       "      <td>265</td>\n",
       "      <td>4766</td>\n",
       "      <td>10074</td>\n",
       "      <td>10486</td>\n",
       "    </tr>\n",
       "    <tr>\n",
       "      <th>mm indel 1</th>\n",
       "      <td>260</td>\n",
       "      <td>4680</td>\n",
       "      <td>9976</td>\n",
       "      <td>10414</td>\n",
       "    </tr>\n",
       "  </tbody>\n",
       "</table>\n",
       "</div>"
      ],
      "text/plain": [
       "              0     1      2      3\n",
       "cov           5    10     20     40\n",
       "total       277  5020  10383  10776\n",
       "id 100      193  3535   8425   8975\n",
       "id 97       264  4730  10058  10503\n",
       "mm 0        225  4192   9323   9781\n",
       "mm 1        267  4835  10159  10601\n",
       "indel 0     207  3734   8651   9189\n",
       "indel 1     265  4766  10074  10486\n",
       "mm indel 1  260  4680   9976  10414"
      ]
     },
     "execution_count": 28,
     "metadata": {},
     "output_type": "execute_result"
    }
   ],
   "source": [
    "# Pretty print\n",
    "pd.read_csv(\"plots/ptet_sim_ontR95.mix.seqid_summary.tsv\", sep=\"\\t\").transpose()"
   ]
  },
  {
   "cell_type": "markdown",
   "metadata": {},
   "source": [
    "# Software timing"
   ]
  },
  {
   "cell_type": "code",
   "execution_count": 2,
   "metadata": {},
   "outputs": [],
   "source": [
    "logfiles = glob.glob(\"bleties_ont/*.log\")"
   ]
  },
  {
   "cell_type": "code",
   "execution_count": 3,
   "metadata": {},
   "outputs": [],
   "source": [
    "timings = []\n",
    "for logfile in logfiles:\n",
    "    cov = re.search(r\"mix(\\d{2})\", logfile).group(1)\n",
    "    with open(logfile, \"r\") as fh:\n",
    "        for line in fh:\n",
    "            started = re.search(r\"\\[(\\S+ \\d{2}:\\d{2}:\\d{2}\\,\\d{3})\\] .* Started BleTIES MILRAA\", line)\n",
    "            finished = re.search(r\"\\[(\\S+ \\d{2}:\\d{2}:\\d{2}\\,\\d{3})\\] .* Finished MILRAA\", line)\n",
    "            if started:\n",
    "                starttime = datetime.datetime.fromisoformat(started.group(1).replace(' ','T').replace(',', '.'))\n",
    "            elif re.search(r\"Finished\", line):\n",
    "                finishtime = datetime.datetime.fromisoformat(finished.group(1).replace(' ','T').replace(',', '.'))\n",
    "    duration = finishtime - starttime\n",
    "    timings.append({'cov' : cov, 'duration' : duration})"
   ]
  },
  {
   "cell_type": "code",
   "execution_count": 4,
   "metadata": {},
   "outputs": [
    {
     "data": {
      "text/html": [
       "<div>\n",
       "<style scoped>\n",
       "    .dataframe tbody tr th:only-of-type {\n",
       "        vertical-align: middle;\n",
       "    }\n",
       "\n",
       "    .dataframe tbody tr th {\n",
       "        vertical-align: top;\n",
       "    }\n",
       "\n",
       "    .dataframe thead th {\n",
       "        text-align: right;\n",
       "    }\n",
       "</style>\n",
       "<table border=\"1\" class=\"dataframe\">\n",
       "  <thead>\n",
       "    <tr style=\"text-align: right;\">\n",
       "      <th></th>\n",
       "      <th>cov</th>\n",
       "      <th>duration</th>\n",
       "    </tr>\n",
       "  </thead>\n",
       "  <tbody>\n",
       "    <tr>\n",
       "      <th>0</th>\n",
       "      <td>00</td>\n",
       "      <td>00:02:56.811000</td>\n",
       "    </tr>\n",
       "    <tr>\n",
       "      <th>1</th>\n",
       "      <td>05</td>\n",
       "      <td>00:03:48.420000</td>\n",
       "    </tr>\n",
       "    <tr>\n",
       "      <th>2</th>\n",
       "      <td>10</td>\n",
       "      <td>00:15:22.642000</td>\n",
       "    </tr>\n",
       "    <tr>\n",
       "      <th>3</th>\n",
       "      <td>20</td>\n",
       "      <td>00:33:34.956000</td>\n",
       "    </tr>\n",
       "    <tr>\n",
       "      <th>4</th>\n",
       "      <td>40</td>\n",
       "      <td>00:43:43.170000</td>\n",
       "    </tr>\n",
       "  </tbody>\n",
       "</table>\n",
       "</div>"
      ],
      "text/plain": [
       "  cov        duration\n",
       "0  00 00:02:56.811000\n",
       "1  05 00:03:48.420000\n",
       "2  10 00:15:22.642000\n",
       "3  20 00:33:34.956000\n",
       "4  40 00:43:43.170000"
      ]
     },
     "execution_count": 4,
     "metadata": {},
     "output_type": "execute_result"
    }
   ],
   "source": [
    "pd.DataFrame(timings)"
   ]
  }
 ],
 "metadata": {
  "kernelspec": {
   "display_name": "Python [conda env:bio-env]",
   "language": "python",
   "name": "conda-env-bio-env-py"
  },
  "language_info": {
   "codemirror_mode": {
    "name": "ipython",
    "version": 3
   },
   "file_extension": ".py",
   "mimetype": "text/x-python",
   "name": "python",
   "nbconvert_exporter": "python",
   "pygments_lexer": "ipython3",
   "version": "3.7.3"
  }
 },
 "nbformat": 4,
 "nbformat_minor": 2
}
