{
 "cells": [
  {
   "cell_type": "markdown",
   "metadata": {},
   "source": [
    "Get IES coordinates from MAC+IES assembly and convert them to coordinates relative to MAC reference assembly.\n",
    "\n",
    "Compare against the BleTIES predictions."
   ]
  },
  {
   "cell_type": "code",
   "execution_count": 1,
   "metadata": {},
   "outputs": [],
   "source": [
    "from Bio import SeqIO\n",
    "from Bio import Seq\n",
    "import re\n",
    "from collections import defaultdict\n",
    "import json"
   ]
  },
  {
   "cell_type": "code",
   "execution_count": 2,
   "metadata": {},
   "outputs": [
    {
     "name": "stdout",
     "output_type": "stream",
     "text": [
      "ptetraurelia_mac_51.fa\r\n",
      "ptetraurelia_mac_51.min100k_max100N.fa\r\n",
      "ptetraurelia_mac_51.min100k_max100N.fa.fai\r\n",
      "ptetraurelia_mac_51.min100k_max100N.iescoords.json\r\n",
      "ptetraurelia_mac_51_with_ies.fa\r\n",
      "ptetraurelia_mac_51_with_ies.min100k_max100N.fa\r\n"
     ]
    }
   ],
   "source": [
    "ls ref"
   ]
  },
  {
   "cell_type": "code",
   "execution_count": 3,
   "metadata": {},
   "outputs": [
    {
     "name": "stdout",
     "output_type": "stream",
     "text": [
      "61\n"
     ]
    }
   ],
   "source": [
    "%%bash\n",
    "grep -c '>' ref/ptetraurelia_mac_51_with_ies.min100k_max100N.fa"
   ]
  },
  {
   "cell_type": "code",
   "execution_count": 4,
   "metadata": {},
   "outputs": [],
   "source": [
    "macies = SeqIO.to_dict(SeqIO.parse(\"ref/ptetraurelia_mac_51_with_ies.min100k_max100N.fa\", \"fasta\"))"
   ]
  },
  {
   "cell_type": "code",
   "execution_count": 5,
   "metadata": {},
   "outputs": [],
   "source": [
    "mac = SeqIO.to_dict(SeqIO.parse(\"ref/ptetraurelia_mac_51.min100k_max100N.fa\", \"fasta\"))"
   ]
  },
  {
   "cell_type": "code",
   "execution_count": 6,
   "metadata": {},
   "outputs": [
    {
     "name": "stdout",
     "output_type": "stream",
     "text": [
      "MAC+IES\n",
      "CAATAACATTTATGTTCTCTtattaagaaattaaaataac\n",
      "ttaaaataacattatgaataATAACAATTTCTTTTAATTT\n",
      "MAC\n",
      "CAATAACATTTATGTTCTCTTAATAACAATTTCTTTTAAT\n",
      "CAATAACATTTATGTTCTCTtattaagaaattaaaataac\n"
     ]
    }
   ],
   "source": [
    "print(\"MAC+IES\")\n",
    "print(str(macies['scaffold51_147_with_IES'].seq[1751:1791]))\n",
    "print(str(macies['scaffold51_147_with_IES'].seq[1781:1821]))\n",
    "print(\"MAC\")\n",
    "print(str(mac['scaffold51_147'].seq[1751:1791]))\n",
    "print(str(macies['scaffold51_147_with_IES'].seq[1751:1791]))"
   ]
  },
  {
   "cell_type": "markdown",
   "metadata": {},
   "source": [
    "The MAC+IES assembly has the entire IES sequence in lower case, including both of the terminal TA-repeats. \n",
    "\n",
    "This means that when we subtract IES lengths in getting coordinates of the IESs relative to the MAC reference, we should subtract 2 bp from the IES length."
   ]
  },
  {
   "cell_type": "code",
   "execution_count": 6,
   "metadata": {},
   "outputs": [],
   "source": [
    "# Get coordinates of softmasked (lower-cased) regions in the MAC+IES assembly\n",
    "iescoords = defaultdict(list)\n",
    "for scaff in macies:\n",
    "    ff = re.finditer(r'[atcg]+', str(macies[scaff].seq))\n",
    "    for i in ff:\n",
    "        iescoords[scaff].append(i.span())"
   ]
  },
  {
   "cell_type": "code",
   "execution_count": 8,
   "metadata": {},
   "outputs": [],
   "source": [
    "# export as JSON\n",
    "with open(\"ref/ptetraurelia_mac_51_with_ies.min100k_max100N.iescoords.json\", \"w\") as fh:\n",
    "    fh.write(json.dumps(iescoords,indent=4))"
   ]
  },
  {
   "cell_type": "code",
   "execution_count": 9,
   "metadata": {},
   "outputs": [],
   "source": [
    "# Adjust coordinates if IES segments removed\n",
    "iescoords_adj = {}\n",
    "for scaff in iescoords:\n",
    "    scaff_orig = scaff[:-9] # remove suffix _with_IES from scaff name\n",
    "    runningtotal = 0\n",
    "    adjcoords = []\n",
    "    ieslens = []\n",
    "    for i in range(len(iescoords[scaff])):\n",
    "        ieslen = iescoords[scaff][i][1] - iescoords[scaff][i][0] - 2\n",
    "        adjcoords.append(iescoords[scaff][i][0] - runningtotal)\n",
    "        ieslens.append(ieslen)\n",
    "        runningtotal += ieslen\n",
    "        # subtract 2 because softmasked region includes both TA flanking repeats\n",
    "        # but one of them is retained in the MAC MDS\n",
    "    iescoords_adj[scaff_orig] = dict(zip(adjcoords,ieslens))"
   ]
  },
  {
   "cell_type": "code",
   "execution_count": 10,
   "metadata": {},
   "outputs": [
    {
     "data": {
      "text/plain": [
       "12199"
      ]
     },
     "execution_count": 10,
     "metadata": {},
     "output_type": "execute_result"
    }
   ],
   "source": [
    "# Total number of IESs\n",
    "sum([len(iescoords_adj[scaff]) for scaff in iescoords_adj])"
   ]
  },
  {
   "cell_type": "code",
   "execution_count": 12,
   "metadata": {},
   "outputs": [
    {
     "name": "stdout",
     "output_type": "stream",
     "text": [
      "scaffold51_147\t192\n",
      "scaffold51_151\t176\n",
      "scaffold51_103\t235\n",
      "scaffold51_175\t62\n",
      "scaffold51_74\t223\n",
      "scaffold51_131\t189\n",
      "scaffold51_61\t244\n",
      "scaffold51_167\t166\n",
      "scaffold51_139\t193\n",
      "scaffold51_169\t104\n",
      "scaffold51_174\t68\n",
      "scaffold51_140\t157\n",
      "scaffold51_73\t219\n",
      "scaffold51_128\t162\n",
      "scaffold51_171\t175\n",
      "scaffold51_65\t288\n",
      "scaffold51_115\t168\n",
      "scaffold51_41\t285\n",
      "scaffold51_63\t244\n",
      "scaffold51_85\t231\n",
      "scaffold51_66\t249\n",
      "scaffold51_45\t274\n",
      "scaffold51_132\t189\n",
      "scaffold51_125\t214\n",
      "scaffold51_30\t269\n",
      "scaffold51_153\t159\n",
      "scaffold51_11\t341\n",
      "scaffold51_134\t177\n",
      "scaffold51_127\t178\n",
      "scaffold51_14\t402\n",
      "scaffold51_114\t217\n",
      "scaffold51_149\t133\n",
      "scaffold51_129\t81\n",
      "scaffold51_79\t215\n",
      "scaffold51_135\t153\n",
      "scaffold51_33\t310\n",
      "scaffold51_94\t181\n",
      "scaffold51_110\t167\n",
      "scaffold51_104\t229\n",
      "scaffold51_101\t189\n",
      "scaffold51_164\t134\n",
      "scaffold51_39\t381\n",
      "scaffold51_83\t258\n",
      "scaffold51_91\t199\n",
      "scaffold51_116\t208\n",
      "scaffold51_121\t180\n",
      "scaffold51_87\t115\n",
      "scaffold51_108\t201\n",
      "scaffold51_46\t325\n",
      "scaffold51_137\t120\n",
      "scaffold51_148\t192\n",
      "scaffold51_98\t192\n",
      "scaffold51_179\t103\n",
      "scaffold51_152\t143\n",
      "scaffold51_43\t260\n",
      "scaffold51_100\t256\n",
      "scaffold51_95\t228\n",
      "scaffold51_75\t249\n",
      "scaffold51_144\t173\n",
      "scaffold51_173\t32\n",
      "scaffold51_556\t142\n"
     ]
    }
   ],
   "source": [
    "# Number of IESs per scaffold\n",
    "for scaff in iescoords_adj:\n",
    "    print(scaff + \"\\t\" + str(len(iescoords_adj[scaff])))"
   ]
  },
  {
   "cell_type": "code",
   "execution_count": 15,
   "metadata": {
    "scrolled": false
   },
   "outputs": [
    {
     "name": "stdout",
     "output_type": "stream",
     "text": [
      "1771\n",
      "CAATAACATTTATGTTCTCTtattaagaaattaaaataac\n",
      "CAATAACATTTATGTTCTCTTAATAACAATTTCTTTTAAT\n",
      "aattaaaataacattatgaataATAACAATTTCTTTTAAT\n",
      "tattaagaaattaaaataacattatgaata\n",
      "2480\n",
      "TTATATTAATTAATTTTGAGtattctaaaatgcaaacact\n",
      "TTATATTAATTAATTTTGAGTAATGATTTGTCTATTGAAA\n",
      "aatgcaaacactcttttcattaATGATTTGTCTATTGAAA\n",
      "tattctaaaatgcaaacactcttttcatta\n",
      "2571\n",
      "TAATATTTTTCCAATTTATAtattgctagatgagaaatta\n",
      "TAATATTTTTCCAATTTATATAGAGCAAATCCTTCCATTA\n",
      "atgagaaattaaaattttattaGAGCAAATCCTTCCATTA\n",
      "tattgctagatgagaaattaaaattttatta\n",
      "2800\n",
      "TCAAATTTAATTTGATGCTTtataataaaatatagaataa\n",
      "TCAAATTTAATTTGATGCTTTAATGGAAGGCCTTTGAAAT\n",
      "aatatagaataatctatgagtaATGGAAGGCCTTTGAAAT\n",
      "tataataaaatatagaataatctatgagta\n",
      "3407\n",
      "CAGTTGGAATAAGCAGTTATtacacttcaacattttaaag\n",
      "CAGTTGGAATAAGCAGTTATTATTTTATGCTATTAACTAA\n",
      "ctttttgagaggatagactgtaTTTTATGCTATTAACTAA\n",
      "tacacttcaacattttaaaggttattcaaaaatatactttttgagaggatagactgta\n",
      "5728\n",
      "AGATCCAATGATAAGGTTGTtatagggatttctgaaacta\n",
      "AGATCCAATGATAAGGTTGTTATCAATTGGGTTGAATATG\n",
      "ttctgaaactaaacaaaccgtaTCAATTGGGTTGAATATG\n",
      "tatagggatttctgaaactaaacaaaccgta\n",
      "8585\n",
      "AATTGATTTATGTGTGAAAGtataataaatttttgtttag\n",
      "AATTGATTTATGTGTGAAAGTATTAGAAGCTCCTATTAGT\n",
      "atttttgtttagattgactataTTAGAAGCTCCTATTAGT\n",
      "tataataaatttttgtttagattgactata\n",
      "11310\n",
      "GGCATCGCGAGTCAAAATTAtacactaaagggatatttgt\n",
      "GGCATCGCGAGTCAAAATTATAATAACATTGTTCTTATTA\n",
      "ttattttctttgttcaactctaATAACATTGTTCTTATTA\n",
      "tacactaaagggatatttgtttctaactttttaaatacatattgctgtcgttaataacatataatgaaataaattattttctttgttcaactcta\n",
      "11610\n",
      "TTGTTATAATGAATATCTGTtattgttgattaattatatt\n",
      "TTGTTATAATGAATATCTGTTATATATGATATTCATAATT\n",
      "catttaattcaaatcatcaataTATATGATATTCATAATT\n",
      "tattgttgattaattatattttttcataaattattatttaaataaattatttggttgatatgattgctttagtaacacatttaattcaaatcatcaata\n",
      "12336\n",
      "TATTCTATTTTGGATTCAGGtattactcaaaatctatttt\n",
      "TATTCTATTTTGGATTCAGGTACATGCTCGTTATATCTTT\n",
      "aattatttagagttcaatattaCATGCTCGTTATATCTTT\n",
      "tattactcaaaatctattttgccacaaaatttattaagataattttatatttgtgattattataaattaaaattaatacaattcttgaaatatattattaattttaaaaaccttattgaaagttagaaattttattcattttctaaaaaaagagtaattatttagagttcaatatta\n"
     ]
    }
   ],
   "source": [
    "# Sanity check - compare 10 IESs and flanking MDS regions in both assemblies\n",
    "# to make sure that the coordinates match up\n",
    "#for i in range(len(iescoords_adj['scaffold51_147_with_IES'])):\n",
    "for i in range(10):\n",
    "    coord_adj = list(iescoords_adj['scaffold51_147'].keys())[i]\n",
    "    coord = iescoords['scaffold51_147_with_IES'][i][0]\n",
    "    coord1 = iescoords['scaffold51_147_with_IES'][i][1]\n",
    "    print(coord_adj)\n",
    "    print(str(macies['scaffold51_147_with_IES'].seq)[coord-20:coord+20])\n",
    "    print(str(mac['scaffold51_147'].seq)[coord_adj-20:coord_adj+20])\n",
    "    print(str(macies['scaffold51_147_with_IES'].seq)[coord1-22:coord1+18])\n",
    "    print(str(macies['scaffold51_147_with_IES'].seq)[coord:coord1])"
   ]
  },
  {
   "cell_type": "code",
   "execution_count": 16,
   "metadata": {},
   "outputs": [],
   "source": [
    "# Export as JSON\n",
    "with open(\"ref/ptetraurelia_mac_51.min100k_max100N.iescoords.json\", \"w\") as fh:\n",
    "    fh.write(json.dumps(iescoords_adj,indent=4))"
   ]
  }
 ],
 "metadata": {
  "kernelspec": {
   "display_name": "Python [conda env:bio-env]",
   "language": "python",
   "name": "conda-env-bio-env-py"
  },
  "language_info": {
   "codemirror_mode": {
    "name": "ipython",
    "version": 3
   },
   "file_extension": ".py",
   "mimetype": "text/x-python",
   "name": "python",
   "nbconvert_exporter": "python",
   "pygments_lexer": "ipython3",
   "version": "3.7.3"
  }
 },
 "nbformat": 4,
 "nbformat_minor": 2
}
