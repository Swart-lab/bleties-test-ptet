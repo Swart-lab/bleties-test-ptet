{
 "cells": [
  {
   "cell_type": "markdown",
   "metadata": {},
   "source": [
    "# Evaluate BleTIES MILRAA output with simulated PacBio reads"
   ]
  },
  {
   "cell_type": "code",
   "execution_count": 2,
   "metadata": {},
   "outputs": [],
   "source": [
    "import json\n",
    "import re\n",
    "\n",
    "import pandas as pd\n",
    "import seaborn as sns\n",
    "import matplotlib.pyplot as plt\n",
    "\n",
    "from Bio import SeqIO\n",
    "from Bio import Seq"
   ]
  },
  {
   "cell_type": "code",
   "execution_count": 3,
   "metadata": {},
   "outputs": [],
   "source": [
    "with open(\"ref/ptetraurelia_mac_51.min100k_max100N.iescoords.json\", \"r\") as fh:\n",
    "    iescoords = json.load(fh)"
   ]
  },
  {
   "cell_type": "code",
   "execution_count": 3,
   "metadata": {},
   "outputs": [
    {
     "name": "stdout",
     "output_type": "stream",
     "text": [
      "bleties_pb/ptet_sim_clr.mix00.milraa_subreads.milraa_ies.gff3\r\n",
      "bleties_pb/ptet_sim_clr.mix05.milraa_subreads.milraa_ies.gff3\r\n",
      "bleties_pb/ptet_sim_clr.mix10.milraa_subreads.milraa_ies.gff3\r\n",
      "bleties_pb/ptet_sim_clr.mix20.milraa_subreads.milraa_ies.gff3\r\n",
      "bleties_pb/ptet_sim_clr.mix40.milraa_subreads.milraa_ies.gff3\r\n"
     ]
    }
   ],
   "source": [
    "ls bleties_pb/ptet_sim_clr.mix??.milraa_subreads.milraa_ies.gff3"
   ]
  },
  {
   "cell_type": "code",
   "execution_count": 4,
   "metadata": {},
   "outputs": [
    {
     "name": "stdout",
     "output_type": "stream",
     "text": [
      "##gff-version 3\n",
      "# /ebio/abt2_projects/small_projects/kbseah/paramecium_simreads_test_bleties/envs/bleties_env/bin/bleties --log bleties_pb/ptet_sim_clr.mix40.milraa_subreads.log milraa --bam mapping_sim_pb/ptet_sim_clr.mix40.sort.bam --ref ref/ptetraurelia_mac_51.min100k_max100N.fa --min_break_coverage 5 --min_del_coverage 5 --type subreads --dump --out bleties_pb/ptet_sim_clr.mix40.milraa_subreads\n",
      "scaffold51_100\tMILRAA\tinternal_eliminated_sequence_junction\t3816\t3816\t0.9333\t.\t.\tID=BREAK_POINTS_SUBREADS_scaffold51_100_3816_58;IES_length=58;IES_subread_coverage=14;IES_zmw_coverage=14;average_subread_coverage=15;average_zmw_coverage=15;\n",
      "scaffold51_100\tMILRAA\tinternal_eliminated_sequence_junction\t4386\t4386\t0.8462\t.\t.\tID=BREAK_POINTS_SUBREADS_scaffold51_100_4386_27;IES_length=27;IES_subread_coverage=11;IES_zmw_coverage=11;average_subread_coverage=13;average_zmw_coverage=13;pointer_seq=GTAT;ta_pointer_seq=TAT;ta_pointer_start=4387;ta_pointer_end=4387;\n",
      "scaffold51_100\tMILRAA\tinternal_eliminated_sequence_junction\t5533\t5533\t0.7857\t.\t.\tID=BREAK_POINTS_SUBREADS_scaffold51_100_5533_26;IES_length=26;IES_subread_coverage=22;IES_zmw_coverage=22;average_subread_coverage=28;average_zmw_coverage=28;pointer_seq=TA;ta_pointer_seq=TA;ta_pointer_start=5533;ta_pointer_end=5533;\n"
     ]
    }
   ],
   "source": [
    "%%bash\n",
    "head -n5 bleties_pb/ptet_sim_clr.mix40.milraa_subreads.milraa_ies.gff3"
   ]
  },
  {
   "cell_type": "markdown",
   "metadata": {},
   "source": [
    "Evaluate the following:\n",
    "\n",
    " * Number of IESs recovered vs. MAC+IES average read coverage\n",
    "  * Thereof: Number with correct coordinate; TA junction; correct length\n",
    " * Number of mismatches between assembled IES sequence and vs. MAC+IES average read coverage"
   ]
  },
  {
   "cell_type": "code",
   "execution_count": 5,
   "metadata": {},
   "outputs": [],
   "source": [
    "# fields to report\n",
    "# iescov, ID, scaffold, coord, TA, length, score (coord, coord_TA, coord_TA_len)\n",
    "out = []\n",
    "for iescov in ['00','05','10','20','40']:\n",
    "    with open(f\"bleties_pb/ptet_sim_clr.mix{iescov}.milraa_subreads.milraa_ies.gff3\",\"r\") as fh:\n",
    "        for line in fh:\n",
    "            if not re.match(r\"#\", line):\n",
    "                spl=line.rstrip().split(\"\\t\")\n",
    "                scaff=spl[0]\n",
    "                coord=spl[3]\n",
    "                outcoord = coord\n",
    "                attr=spl[-1].rstrip(\";\").split(\";\")\n",
    "                attrdict={a.split(\"=\")[0]:a.split(\"=\")[1] for a in attr}\n",
    "                score = \"nomatch\"\n",
    "                if \"ta_pointer_start\" in attrdict and attrdict[\"ta_pointer_start\"] in iescoords[scaff]:\n",
    "                    outcoord = attrdict[\"ta_pointer_start\"]\n",
    "                    # Correct coordinate and TA pointer present\n",
    "                    if int(attrdict[\"IES_length\"]) == iescoords[scaff][attrdict[\"ta_pointer_start\"]]:\n",
    "                        # Correct coordinate and TA pointer and length\n",
    "                        score = \"coord_TA_len\"\n",
    "                    else:\n",
    "                        # Correct coordinate and TA pointer but wrong length\n",
    "                        score = \"coord_TA\"\n",
    "                else:\n",
    "                    if coord in iescoords[scaff]:\n",
    "                        # Correct coordinate but no TA pointer\n",
    "                        if int(attrdict[\"IES_length\"]) == iescoords[scaff][coord]:\n",
    "                            # Correct coordinate and length but no TA pointer\n",
    "                            score = \"coord_len\"\n",
    "                        else:\n",
    "                            score = \"coord\"\n",
    "                    else:\n",
    "                        for coord_i in range(int(coord)-10, int(coord)+10):\n",
    "                            if str(coord_i) in iescoords[scaff]:\n",
    "                                score = \"coord_10\"\n",
    "                        for coord_i in range(int(coord)-5, int(coord)+5):\n",
    "                            if str(coord_i) in iescoords[scaff]:\n",
    "                                score = \"coord_5\"\n",
    "                out.append([iescov, attrdict[\"ID\"], scaff, outcoord, attrdict[\"IES_length\"], score])\n",
    "out = pd.DataFrame(out, columns=[\"iescov\",\"ID\",\"scaffold\",\"pos\",\"len\",\"score\"])"
   ]
  },
  {
   "cell_type": "code",
   "execution_count": 6,
   "metadata": {},
   "outputs": [
    {
     "data": {
      "text/html": [
       "<div>\n",
       "<style scoped>\n",
       "    .dataframe tbody tr th:only-of-type {\n",
       "        vertical-align: middle;\n",
       "    }\n",
       "\n",
       "    .dataframe tbody tr th {\n",
       "        vertical-align: top;\n",
       "    }\n",
       "\n",
       "    .dataframe thead th {\n",
       "        text-align: right;\n",
       "    }\n",
       "</style>\n",
       "<table border=\"1\" class=\"dataframe\">\n",
       "  <thead>\n",
       "    <tr style=\"text-align: right;\">\n",
       "      <th></th>\n",
       "      <th>iescov</th>\n",
       "      <th>ID</th>\n",
       "      <th>scaffold</th>\n",
       "      <th>pos</th>\n",
       "      <th>len</th>\n",
       "      <th>score</th>\n",
       "    </tr>\n",
       "  </thead>\n",
       "  <tbody>\n",
       "    <tr>\n",
       "      <th>0</th>\n",
       "      <td>05</td>\n",
       "      <td>BREAK_POINTS_SUBREADS_scaffold51_100_29749_28</td>\n",
       "      <td>scaffold51_100</td>\n",
       "      <td>29750</td>\n",
       "      <td>28</td>\n",
       "      <td>coord_TA_len</td>\n",
       "    </tr>\n",
       "    <tr>\n",
       "      <th>1</th>\n",
       "      <td>05</td>\n",
       "      <td>BREAK_POINTS_SUBREADS_scaffold51_100_29829_55</td>\n",
       "      <td>scaffold51_100</td>\n",
       "      <td>29829</td>\n",
       "      <td>55</td>\n",
       "      <td>coord_TA_len</td>\n",
       "    </tr>\n",
       "    <tr>\n",
       "      <th>2</th>\n",
       "      <td>05</td>\n",
       "      <td>BREAK_POINTS_SUBREADS_scaffold51_100_30723_127</td>\n",
       "      <td>scaffold51_100</td>\n",
       "      <td>30723</td>\n",
       "      <td>127</td>\n",
       "      <td>coord_TA</td>\n",
       "    </tr>\n",
       "    <tr>\n",
       "      <th>3</th>\n",
       "      <td>05</td>\n",
       "      <td>BREAK_POINTS_SUBREADS_scaffold51_100_168431_49</td>\n",
       "      <td>scaffold51_100</td>\n",
       "      <td>168431</td>\n",
       "      <td>49</td>\n",
       "      <td>coord_TA_len</td>\n",
       "    </tr>\n",
       "    <tr>\n",
       "      <th>4</th>\n",
       "      <td>05</td>\n",
       "      <td>BREAK_POINTS_SUBREADS_scaffold51_100_168479_27</td>\n",
       "      <td>scaffold51_100</td>\n",
       "      <td>168479</td>\n",
       "      <td>27</td>\n",
       "      <td>coord_TA_len</td>\n",
       "    </tr>\n",
       "  </tbody>\n",
       "</table>\n",
       "</div>"
      ],
      "text/plain": [
       "  iescov                                              ID        scaffold  \\\n",
       "0     05   BREAK_POINTS_SUBREADS_scaffold51_100_29749_28  scaffold51_100   \n",
       "1     05   BREAK_POINTS_SUBREADS_scaffold51_100_29829_55  scaffold51_100   \n",
       "2     05  BREAK_POINTS_SUBREADS_scaffold51_100_30723_127  scaffold51_100   \n",
       "3     05  BREAK_POINTS_SUBREADS_scaffold51_100_168431_49  scaffold51_100   \n",
       "4     05  BREAK_POINTS_SUBREADS_scaffold51_100_168479_27  scaffold51_100   \n",
       "\n",
       "      pos  len         score  \n",
       "0   29750   28  coord_TA_len  \n",
       "1   29829   55  coord_TA_len  \n",
       "2   30723  127      coord_TA  \n",
       "3  168431   49  coord_TA_len  \n",
       "4  168479   27  coord_TA_len  "
      ]
     },
     "execution_count": 6,
     "metadata": {},
     "output_type": "execute_result"
    }
   ],
   "source": [
    "out.head()"
   ]
  },
  {
   "cell_type": "code",
   "execution_count": 7,
   "metadata": {},
   "outputs": [
    {
     "data": {
      "text/plain": [
       "Text(0.5, 1, 'BleTIES MILRAA on simulated PacBio CLR data')"
      ]
     },
     "execution_count": 7,
     "metadata": {},
     "output_type": "execute_result"
    },
    {
     "data": {
      "image/png": "[encoded data removed]",
      "text/plain": [
       "<Figure size 462.25x360 with 1 Axes>"
      ]
     },
     "metadata": {
      "needs_background": "light"
     },
     "output_type": "display_data"
    }
   ],
   "source": [
    "sns.catplot(hue='score',x='iescov',kind='count',data=out)\n",
    "plt.xlabel(\"MAC+IES coverage\")\n",
    "plt.ylabel(\"Number of IESs predicted\")\n",
    "plt.title(\"BleTIES MILRAA on simulated PacBio CLR data\")"
   ]
  },
  {
   "cell_type": "code",
   "execution_count": 8,
   "metadata": {},
   "outputs": [],
   "source": [
    "# tabulate by score type and reformat table for barplot\n",
    "cts = out[['iescov','score']].groupby(['iescov','score']).size().reset_index()\n",
    "ctsspread = cts.pivot(index='iescov',columns='score',values=0).reset_index().fillna(0)"
   ]
  },
  {
   "cell_type": "code",
   "execution_count": 9,
   "metadata": {},
   "outputs": [
    {
     "data": {
      "text/html": [
       "<div>\n",
       "<style scoped>\n",
       "    .dataframe tbody tr th:only-of-type {\n",
       "        vertical-align: middle;\n",
       "    }\n",
       "\n",
       "    .dataframe tbody tr th {\n",
       "        vertical-align: top;\n",
       "    }\n",
       "\n",
       "    .dataframe thead th {\n",
       "        text-align: right;\n",
       "    }\n",
       "</style>\n",
       "<table border=\"1\" class=\"dataframe\">\n",
       "  <thead>\n",
       "    <tr style=\"text-align: right;\">\n",
       "      <th>score</th>\n",
       "      <th>iescov</th>\n",
       "      <th>coord</th>\n",
       "      <th>coord_10</th>\n",
       "      <th>coord_5</th>\n",
       "      <th>coord_TA</th>\n",
       "      <th>coord_TA_len</th>\n",
       "      <th>coord_len</th>\n",
       "      <th>nomatch</th>\n",
       "    </tr>\n",
       "  </thead>\n",
       "  <tbody>\n",
       "    <tr>\n",
       "      <th>0</th>\n",
       "      <td>05</td>\n",
       "      <td>4.0</td>\n",
       "      <td>4.0</td>\n",
       "      <td>37.0</td>\n",
       "      <td>91.0</td>\n",
       "      <td>133.0</td>\n",
       "      <td>0.0</td>\n",
       "      <td>0.0</td>\n",
       "    </tr>\n",
       "    <tr>\n",
       "      <th>1</th>\n",
       "      <td>10</td>\n",
       "      <td>92.0</td>\n",
       "      <td>49.0</td>\n",
       "      <td>675.0</td>\n",
       "      <td>2184.0</td>\n",
       "      <td>2498.0</td>\n",
       "      <td>4.0</td>\n",
       "      <td>10.0</td>\n",
       "    </tr>\n",
       "    <tr>\n",
       "      <th>2</th>\n",
       "      <td>20</td>\n",
       "      <td>127.0</td>\n",
       "      <td>96.0</td>\n",
       "      <td>1152.0</td>\n",
       "      <td>3810.0</td>\n",
       "      <td>6087.0</td>\n",
       "      <td>10.0</td>\n",
       "      <td>30.0</td>\n",
       "    </tr>\n",
       "    <tr>\n",
       "      <th>3</th>\n",
       "      <td>40</td>\n",
       "      <td>115.0</td>\n",
       "      <td>98.0</td>\n",
       "      <td>1015.0</td>\n",
       "      <td>3492.0</td>\n",
       "      <td>6886.0</td>\n",
       "      <td>6.0</td>\n",
       "      <td>30.0</td>\n",
       "    </tr>\n",
       "  </tbody>\n",
       "</table>\n",
       "</div>"
      ],
      "text/plain": [
       "score iescov  coord  coord_10  coord_5  coord_TA  coord_TA_len  coord_len  \\\n",
       "0         05    4.0       4.0     37.0      91.0         133.0        0.0   \n",
       "1         10   92.0      49.0    675.0    2184.0        2498.0        4.0   \n",
       "2         20  127.0      96.0   1152.0    3810.0        6087.0       10.0   \n",
       "3         40  115.0      98.0   1015.0    3492.0        6886.0        6.0   \n",
       "\n",
       "score  nomatch  \n",
       "0          0.0  \n",
       "1         10.0  \n",
       "2         30.0  \n",
       "3         30.0  "
      ]
     },
     "execution_count": 9,
     "metadata": {},
     "output_type": "execute_result"
    }
   ],
   "source": [
    "ctsspread"
   ]
  },
  {
   "cell_type": "code",
   "execution_count": 10,
   "metadata": {},
   "outputs": [],
   "source": [
    "ctsspread.to_csv(\"plots/ptet_sim_clr.mix.ies_results.tsv\", sep=\"\\t\", index=False)"
   ]
  },
  {
   "cell_type": "code",
   "execution_count": 11,
   "metadata": {},
   "outputs": [
    {
     "data": {
      "text/plain": [
       "12199"
      ]
     },
     "execution_count": 11,
     "metadata": {},
     "output_type": "execute_result"
    }
   ],
   "source": [
    "# Total number of IESs in the input\n",
    "sum([len(iescoords[scaff]) for scaff in iescoords])"
   ]
  },
  {
   "cell_type": "code",
   "execution_count": 12,
   "metadata": {},
   "outputs": [
    {
     "data": {
      "image/png": "[encoded data removed]",
      "text/plain": [
       "<Figure size 576x432 with 1 Axes>"
      ]
     },
     "metadata": {
      "needs_background": "light"
     },
     "output_type": "display_data"
    }
   ],
   "source": [
    "# Summarize key statistics in a single bargraph\n",
    "plt.figure(figsize=(8,6))\n",
    "plt.bar(ctsspread['iescov'], ctsspread['nomatch'], label='no match', color='pink')\n",
    "plt.bar(ctsspread['iescov'], ctsspread['coord_10'], label='within 10 bp', color='#9a0000',\n",
    "        bottom = ctsspread['nomatch'])\n",
    "plt.bar(ctsspread['iescov'], ctsspread['coord_5'], label='within 5 bp', color='#e10000',\n",
    "        bottom = ctsspread['nomatch'] + ctsspread['coord_10'])\n",
    "plt.bar(ctsspread['iescov'],ctsspread['coord'], label='coord', color='#000a9a',\n",
    "        bottom = ctsspread['nomatch'] + ctsspread['coord_10'] + ctsspread['coord_5'])\n",
    "plt.bar(ctsspread['iescov'],ctsspread['coord_len'], label='coord, length', color='#00969a',\n",
    "        bottom = ctsspread['nomatch'] + ctsspread['coord_10'] + ctsspread['coord_5'] + ctsspread['coord'])\n",
    "plt.bar(ctsspread['iescov'],ctsspread['coord_TA'], label='coord, TAs', color='#009a1a',\n",
    "        bottom = ctsspread['nomatch'] + ctsspread['coord_10'] + ctsspread['coord_5'] + ctsspread['coord'] + ctsspread['coord_len'])\n",
    "plt.bar(ctsspread['iescov'],ctsspread['coord_TA_len'], label='coord, length, TAs', color='#59e700',\n",
    "        bottom = ctsspread['nomatch'] + ctsspread['coord_10'] + ctsspread['coord_5'] + ctsspread['coord'] + ctsspread['coord_len'] + ctsspread['coord_TA'])\n",
    "plt.legend()\n",
    "plt.xlabel(\"MAC+IES coverage\")\n",
    "plt.ylabel(\"Number of IESs predicted\")\n",
    "plt.title(\"BleTIES MILRAA on simulated PacBio CLR data\")\n",
    "plt.savefig(\"plots/ptet_sim_clr.mix.ies_results.png\")\n",
    "plt.savefig(\"plots/ptet_sim_clr.mix.ies_results.pdf\")"
   ]
  },
  {
   "cell_type": "code",
   "execution_count": 5,
   "metadata": {},
   "outputs": [
    {
     "data": {
      "image/png": "[encoded data removed]",
      "text/plain": [
       "<Figure size 720x432 with 1 Axes>"
      ]
     },
     "metadata": {
      "needs_background": "light"
     },
     "output_type": "display_data"
    }
   ],
   "source": [
    "# Plot length histogram for original IES annotations\n",
    "ieslens = []\n",
    "for scaff in iescoords:\n",
    "    ieslens.extend(iescoords[scaff].values())\n",
    "\n",
    "plt.figure(figsize=(10,6))\n",
    "sns.histplot([i for i in ieslens if i < 300],binwidth=1, linewidth=0)\n",
    "plt.savefig(\"plots/ptet_ies_orig_lengths.png\")\n",
    "plt.savefig(\"plots/ptet_ies_orig_lengths.pdf\")"
   ]
  },
  {
   "cell_type": "code",
   "execution_count": 16,
   "metadata": {},
   "outputs": [],
   "source": [
    "out['len'] = pd.to_numeric(out['len'])"
   ]
  },
  {
   "cell_type": "code",
   "execution_count": 17,
   "metadata": {},
   "outputs": [
    {
     "data": {
      "image/png": "[encoded data removed]",
      "text/plain": [
       "<Figure size 504x864 with 4 Axes>"
      ]
     },
     "metadata": {
      "needs_background": "light"
     },
     "output_type": "display_data"
    }
   ],
   "source": [
    "# Length histograms for predicted IESs at different coverage levels\n",
    "grid = sns.FacetGrid(out.query('len<300'), row='iescov', height=3, aspect=7/3)\n",
    "grid.map(sns.histplot, 'len', binwidth=1, linewidth=0)\n",
    "grid.set_titles(row_template=\"MAC+IES average coverage {row_name}x\")\n",
    "grid.set_xlabels(\"IES length (bp)\")\n",
    "grid.set_ylabels(\"No. MILRAA IESs\")\n",
    "grid.savefig(\"plots/ptet_sim_clr.mix.ieslengths.png\")\n",
    "grid.savefig(\"plots/ptet_sim_clr.mix.ieslengths.pdf\")"
   ]
  },
  {
   "cell_type": "markdown",
   "metadata": {},
   "source": [
    "# Compare reconstructed IES seqs with original\n",
    "\n",
    "Extract IES sequences from MAC+IES assembly"
   ]
  },
  {
   "cell_type": "code",
   "execution_count": 19,
   "metadata": {},
   "outputs": [],
   "source": [
    "macies = SeqIO.to_dict(SeqIO.parse(\"ref/ptetraurelia_mac_51_with_ies.min100k_max100N.fa\",\"fasta\"))"
   ]
  },
  {
   "cell_type": "code",
   "execution_count": 20,
   "metadata": {},
   "outputs": [],
   "source": [
    "iesrecon40 = SeqIO.to_dict(SeqIO.parse(\"bleties_pb/ptet_sim_clr.mix40.milraa_subreads.milraa_ies.fasta\",\"fasta\"))"
   ]
  },
  {
   "cell_type": "code",
   "execution_count": 21,
   "metadata": {},
   "outputs": [],
   "source": [
    "iesrecon = {}\n",
    "for cov in ['05','10','20','40']:\n",
    "    iesrecon[cov] = SeqIO.to_dict(\n",
    "        SeqIO.parse(\n",
    "            f\"bleties_pb/ptet_sim_clr.mix{cov}.milraa_subreads.milraa_ies.fasta\",\"fasta\"))"
   ]
  },
  {
   "cell_type": "code",
   "execution_count": 22,
   "metadata": {},
   "outputs": [],
   "source": [
    "with open(\"ref/ptetraurelia_mac_51_with_ies.min100k_max100N.iescoords.json\", \"r\") as fh:\n",
    "    iescoords_orig = json.load(fh)"
   ]
  },
  {
   "cell_type": "code",
   "execution_count": 23,
   "metadata": {},
   "outputs": [],
   "source": [
    "from Bio import pairwise2\n",
    "from collections import defaultdict"
   ]
  },
  {
   "cell_type": "code",
   "execution_count": 24,
   "metadata": {},
   "outputs": [],
   "source": [
    "# Extract original IESs from the MAC+IES assembly\n",
    "orig_ies_seqs = defaultdict(dict)\n",
    "for scaff in iescoords_orig:\n",
    "    scaff_mac = scaff[:-9]\n",
    "    # dict of new coordinate vs. original coordinates\n",
    "    new_old = dict(zip(iescoords[scaff_mac],iescoords_orig[scaff]))\n",
    "    for pos in new_old:\n",
    "        name = 'ies_' + scaff_mac + \"_\" + str(pos)\n",
    "        orig_ies_seqs[scaff_mac][pos] = macies[scaff][new_old[pos][0]:new_old[pos][1]]"
   ]
  },
  {
   "cell_type": "code",
   "execution_count": 25,
   "metadata": {},
   "outputs": [],
   "source": [
    "# Compare original and reconstructed IES sequences\n",
    "iescomp = []\n",
    "for cov in iesrecon:\n",
    "    for seqid in iesrecon[cov]:\n",
    "        spl = seqid.split(\"_\")\n",
    "        scaff = \"_\".join(spl[3:5])\n",
    "        pos = str(spl[5])\n",
    "        if pos in orig_ies_seqs[scaff]:\n",
    "            origlen = len(orig_ies_seqs[scaff][pos].seq[:-2])\n",
    "            assemlen = len(iesrecon[cov][seqid].seq)\n",
    "            # define percent identity as number of matching bases \n",
    "            # in whichever is longer: original seq or consensus\n",
    "            alnscore = (pairwise2.align.globalxx(\n",
    "                str(orig_ies_seqs[scaff][pos].seq[:-2]).upper(),\n",
    "                iesrecon[cov][seqid].seq,\n",
    "                score_only=True))\n",
    "            pid = alnscore / max([origlen, assemlen])\n",
    "            mismatch = int(origlen - alnscore)\n",
    "            indel = int(assemlen - origlen)\n",
    "            iescomp.append([cov, seqid, pid, mismatch, indel])"
   ]
  },
  {
   "cell_type": "code",
   "execution_count": 26,
   "metadata": {},
   "outputs": [],
   "source": [
    "iescomp_tbl = pd.DataFrame(iescomp, columns=['cov','seqid','pid','mm','indel'])"
   ]
  },
  {
   "cell_type": "code",
   "execution_count": 27,
   "metadata": {},
   "outputs": [
    {
     "data": {
      "text/html": [
       "<div>\n",
       "<style scoped>\n",
       "    .dataframe tbody tr th:only-of-type {\n",
       "        vertical-align: middle;\n",
       "    }\n",
       "\n",
       "    .dataframe tbody tr th {\n",
       "        vertical-align: top;\n",
       "    }\n",
       "\n",
       "    .dataframe thead th {\n",
       "        text-align: right;\n",
       "    }\n",
       "</style>\n",
       "<table border=\"1\" class=\"dataframe\">\n",
       "  <thead>\n",
       "    <tr style=\"text-align: right;\">\n",
       "      <th></th>\n",
       "      <th>cov</th>\n",
       "      <th>seqid</th>\n",
       "      <th>pid</th>\n",
       "      <th>mm</th>\n",
       "      <th>indel</th>\n",
       "    </tr>\n",
       "  </thead>\n",
       "  <tbody>\n",
       "    <tr>\n",
       "      <th>0</th>\n",
       "      <td>05</td>\n",
       "      <td>BREAK_POINTS_SUBREADS_scaffold51_147_23027_123</td>\n",
       "      <td>0.967480</td>\n",
       "      <td>0</td>\n",
       "      <td>4</td>\n",
       "    </tr>\n",
       "    <tr>\n",
       "      <th>1</th>\n",
       "      <td>05</td>\n",
       "      <td>BREAK_POINTS_SUBREADS_scaffold51_147_72323_29</td>\n",
       "      <td>1.000000</td>\n",
       "      <td>0</td>\n",
       "      <td>0</td>\n",
       "    </tr>\n",
       "    <tr>\n",
       "      <th>2</th>\n",
       "      <td>05</td>\n",
       "      <td>BREAK_POINTS_SUBREADS_scaffold51_147_74372_50</td>\n",
       "      <td>0.980000</td>\n",
       "      <td>0</td>\n",
       "      <td>1</td>\n",
       "    </tr>\n",
       "    <tr>\n",
       "      <th>3</th>\n",
       "      <td>05</td>\n",
       "      <td>BREAK_POINTS_SUBREADS_scaffold51_151_182369_145</td>\n",
       "      <td>0.993103</td>\n",
       "      <td>0</td>\n",
       "      <td>1</td>\n",
       "    </tr>\n",
       "    <tr>\n",
       "      <th>4</th>\n",
       "      <td>05</td>\n",
       "      <td>BREAK_POINTS_SUBREADS_scaffold51_74_289022_93</td>\n",
       "      <td>0.956989</td>\n",
       "      <td>0</td>\n",
       "      <td>4</td>\n",
       "    </tr>\n",
       "  </tbody>\n",
       "</table>\n",
       "</div>"
      ],
      "text/plain": [
       "  cov                                            seqid       pid  mm  indel\n",
       "0  05   BREAK_POINTS_SUBREADS_scaffold51_147_23027_123  0.967480   0      4\n",
       "1  05    BREAK_POINTS_SUBREADS_scaffold51_147_72323_29  1.000000   0      0\n",
       "2  05    BREAK_POINTS_SUBREADS_scaffold51_147_74372_50  0.980000   0      1\n",
       "3  05  BREAK_POINTS_SUBREADS_scaffold51_151_182369_145  0.993103   0      1\n",
       "4  05    BREAK_POINTS_SUBREADS_scaffold51_74_289022_93  0.956989   0      4"
      ]
     },
     "execution_count": 27,
     "metadata": {},
     "output_type": "execute_result"
    }
   ],
   "source": [
    "iescomp_tbl.head()"
   ]
  },
  {
   "cell_type": "code",
   "execution_count": 29,
   "metadata": {},
   "outputs": [
    {
     "data": {
      "image/png": "[encoded data removed]",
      "text/plain": [
       "<Figure size 504x864 with 4 Axes>"
      ]
     },
     "metadata": {
      "needs_background": "light"
     },
     "output_type": "display_data"
    }
   ],
   "source": [
    "grid = sns.FacetGrid(iescomp_tbl, row='cov', height=3, aspect=7/3)\n",
    "grid.map(sns.histplot, 'pid', binwidth=0.01, linewidth=0)\n",
    "plt.savefig(\"plots/ptet_sim_clr.mix.ies_vs_orig_seqid.png\")\n",
    "plt.savefig(\"plots/ptet_sim_clr.mix.ies_vs_orig_seqid.png\")"
   ]
  },
  {
   "cell_type": "code",
   "execution_count": 30,
   "metadata": {},
   "outputs": [
    {
     "data": {
      "image/png": "[encoded data removed]",
      "text/plain": [
       "<Figure size 504x864 with 4 Axes>"
      ]
     },
     "metadata": {
      "needs_background": "light"
     },
     "output_type": "display_data"
    }
   ],
   "source": [
    "grid = sns.FacetGrid(iescomp_tbl.query('mm < 25'), row='cov', height=3, aspect=7/3)\n",
    "grid.map(sns.histplot, 'mm', binwidth=1, linewidth=0)\n",
    "plt.savefig(\"plots/ptet_sim_clr.mix.ies_vs_orig_mm.png\")\n",
    "plt.savefig(\"plots/ptet_sim_clr.mix.ies_vs_orig_mm.pdf\")"
   ]
  },
  {
   "cell_type": "code",
   "execution_count": 31,
   "metadata": {},
   "outputs": [
    {
     "data": {
      "image/png": "[encoded data removed]",
      "text/plain": [
       "<Figure size 504x864 with 4 Axes>"
      ]
     },
     "metadata": {
      "needs_background": "light"
     },
     "output_type": "display_data"
    }
   ],
   "source": [
    "grid = sns.FacetGrid(iescomp_tbl.query('indel > -25 & indel < 25'), row='cov', height=3, aspect=7/3)\n",
    "grid.map(sns.histplot, 'indel', binwidth=1, linewidth=0)\n",
    "plt.savefig(\"plots/ptet_sim_clr.mix.ies_vs_orig_indel.png\")\n",
    "plt.savefig(\"plots/ptet_sim_clr.mix.ies_vs_orig_indel.pdf\")"
   ]
  },
  {
   "cell_type": "code",
   "execution_count": 32,
   "metadata": {},
   "outputs": [
    {
     "name": "stdout",
     "output_type": "stream",
     "text": [
      "05\n",
      "      pid    mm  indel\n",
      "1.00  1.0  15.0   7.00\n",
      "0.99  1.0   2.0   5.00\n",
      "0.98  1.0   2.0   4.42\n",
      "0.97  1.0   1.0   4.00\n",
      "0.96  1.0   1.0   3.00\n",
      "0.95  1.0   1.0   3.00\n",
      "\n",
      "10\n",
      "      pid    mm  indel\n",
      "1.00  1.0  44.0   60.0\n",
      "0.99  1.0   2.0    6.0\n",
      "0.98  1.0   2.0    5.0\n",
      "0.97  1.0   1.0    4.0\n",
      "0.96  1.0   1.0    4.0\n",
      "0.95  1.0   1.0    3.0\n",
      "\n",
      "20\n",
      "      pid    mm  indel\n",
      "1.00  1.0  64.0   80.0\n",
      "0.99  1.0   2.0    5.0\n",
      "0.98  1.0   1.0    4.0\n",
      "0.97  1.0   1.0    3.0\n",
      "0.96  1.0   1.0    3.0\n",
      "0.95  1.0   1.0    3.0\n",
      "\n",
      "40\n",
      "      pid     mm  indel\n",
      "1.00  1.0  859.0   82.0\n",
      "0.99  1.0    2.0    5.0\n",
      "0.98  1.0    1.0    4.0\n",
      "0.97  1.0    1.0    3.0\n",
      "0.96  1.0    1.0    3.0\n",
      "0.95  1.0    1.0    3.0\n",
      "\n"
     ]
    }
   ],
   "source": [
    "for cov in ['05','10','20','40']:\n",
    "    print(cov)\n",
    "    print(iescomp_tbl.query(f\"cov == '{cov}'\").quantile([1, 0.99, 0.98, 0.97, 0.96, 0.95], axis=0))\n",
    "    print(\"\")"
   ]
  },
  {
   "cell_type": "code",
   "execution_count": 33,
   "metadata": {},
   "outputs": [],
   "source": [
    "# Report summary statistics on sequence identity\n",
    "with open(\"plots/ptet_sim_clr.mix.seqid_summary.tsv\", \"w\") as fh:\n",
    "    # Print header\n",
    "    fh.write(\"\\t\".join(['cov','total','id 100','id 97','mm 0','mm 1','indel 0','indel 1', 'mm indel 1']))\n",
    "    fh.write(\"\\n\")\n",
    "    for cov in ['05','10','20','40']:\n",
    "        fh.write(\"\\t\".join([\n",
    "            cov,\n",
    "            str(iescomp_tbl.query(f\"cov == '{cov}'\").shape[0]),\n",
    "            str(iescomp_tbl.query(f\"cov == '{cov}' & pid == 1.0\").shape[0]),\n",
    "            str(iescomp_tbl.query(f\"cov == '{cov}' & pid > 0.97\").shape[0]),\n",
    "            str(iescomp_tbl.query(f\"cov == '{cov}' & mm == 0\").shape[0]),\n",
    "            str(iescomp_tbl.query(f\"cov == '{cov}' & mm <= 1\").shape[0]),\n",
    "            str(iescomp_tbl.query(f\"cov == '{cov}' & indel == 0\").shape[0]),\n",
    "            str(iescomp_tbl.query(f\"cov == '{cov}' & indel >= -1 & indel <= 1\").shape[0]),\n",
    "            str(iescomp_tbl.query(f\"cov == '{cov}' & indel >= -1 & indel <= 1 & mm <= 1\").shape[0])\n",
    "        ]))\n",
    "        fh.write(\"\\n\")"
   ]
  },
  {
   "cell_type": "code",
   "execution_count": 34,
   "metadata": {},
   "outputs": [
    {
     "name": "stdout",
     "output_type": "stream",
     "text": [
      "cov\ttotal\tid 100\tid 97\tmm 0\tmm 1\tindel 0\tindel 1\tmm indel 1\r\n",
      "05\t180\t99\t150\t161\t175\t104\t145\t143\r\n",
      "10\t3718\t1842\t3110\t3284\t3637\t1950\t2979\t2942\r\n",
      "20\t7752\t4501\t6868\t7052\t7657\t4702\t6606\t6560\r\n",
      "40\t8116\t5161\t7367\t7480\t8016\t5322\t7053\t7007\r\n"
     ]
    }
   ],
   "source": [
    "cat plots/ptet_sim_clr.mix.seqid_summary.tsv"
   ]
  }
 ],
 "metadata": {
  "kernelspec": {
   "display_name": "Python [conda env:bio-env]",
   "language": "python",
   "name": "conda-env-bio-env-py"
  },
  "language_info": {
   "codemirror_mode": {
    "name": "ipython",
    "version": 3
   },
   "file_extension": ".py",
   "mimetype": "text/x-python",
   "name": "python",
   "nbconvert_exporter": "python",
   "pygments_lexer": "ipython3",
   "version": "3.7.3"
  }
 },
 "nbformat": 4,
 "nbformat_minor": 2
}
